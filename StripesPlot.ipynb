{
 "cells": [
  {
   "cell_type": "code",
   "execution_count": 11,
   "id": "f894be79-8892-48d6-84dc-8ff19be63c0e",
   "metadata": {
    "execution": {
     "iopub.execute_input": "2022-04-08T07:24:42.959973Z",
     "iopub.status.busy": "2022-04-08T07:24:42.959715Z",
     "iopub.status.idle": "2022-04-08T07:24:43.364135Z",
     "shell.execute_reply": "2022-04-08T07:24:43.363602Z",
     "shell.execute_reply.started": "2022-04-08T07:24:42.959948Z"
    },
    "tags": []
   },
   "outputs": [],
   "source": [
    "import pandas as pd\n",
    "import matplotlib\n",
    "import matplotlib.pyplot as plt"
   ]
  },
  {
   "cell_type": "code",
   "execution_count": 7,
   "id": "d5f2892b-26f4-4936-bd53-6051c60f22ee",
   "metadata": {
    "execution": {
     "iopub.execute_input": "2022-04-08T07:23:10.940229Z",
     "iopub.status.busy": "2022-04-08T07:23:10.939594Z",
     "iopub.status.idle": "2022-04-08T07:23:10.953747Z",
     "shell.execute_reply": "2022-04-08T07:23:10.953125Z",
     "shell.execute_reply.started": "2022-04-08T07:23:10.940199Z"
    },
    "tags": []
   },
   "outputs": [
    {
     "data": {
      "text/html": [
       "<div>\n",
       "<style scoped>\n",
       "    .dataframe tbody tr th:only-of-type {\n",
       "        vertical-align: middle;\n",
       "    }\n",
       "\n",
       "    .dataframe tbody tr th {\n",
       "        vertical-align: top;\n",
       "    }\n",
       "\n",
       "    .dataframe thead th {\n",
       "        text-align: right;\n",
       "    }\n",
       "</style>\n",
       "<table border=\"1\" class=\"dataframe\">\n",
       "  <thead>\n",
       "    <tr style=\"text-align: right;\">\n",
       "      <th></th>\n",
       "      <th>n</th>\n",
       "      <th>xPixel</th>\n",
       "      <th>yPixel</th>\n",
       "      <th>segment</th>\n",
       "      <th>peakNumbInSegment</th>\n",
       "      <th>distanceInSegment</th>\n",
       "      <th>distanceCumulated</th>\n",
       "      <th>stripeLength</th>\n",
       "    </tr>\n",
       "  </thead>\n",
       "  <tbody>\n",
       "    <tr>\n",
       "      <th>0</th>\n",
       "      <td>1</td>\n",
       "      <td>291.309971</td>\n",
       "      <td>855.905497</td>\n",
       "      <td>1</td>\n",
       "      <td>1</td>\n",
       "      <td>0.000000</td>\n",
       "      <td>0.000000</td>\n",
       "      <td>0.000000</td>\n",
       "    </tr>\n",
       "    <tr>\n",
       "      <th>1</th>\n",
       "      <td>2</td>\n",
       "      <td>295.640492</td>\n",
       "      <td>870.109606</td>\n",
       "      <td>1</td>\n",
       "      <td>2</td>\n",
       "      <td>0.064145</td>\n",
       "      <td>0.064145</td>\n",
       "      <td>0.064145</td>\n",
       "    </tr>\n",
       "    <tr>\n",
       "      <th>2</th>\n",
       "      <td>3</td>\n",
       "      <td>299.607018</td>\n",
       "      <td>883.119812</td>\n",
       "      <td>1</td>\n",
       "      <td>3</td>\n",
       "      <td>0.122898</td>\n",
       "      <td>0.122898</td>\n",
       "      <td>0.058754</td>\n",
       "    </tr>\n",
       "    <tr>\n",
       "      <th>3</th>\n",
       "      <td>4</td>\n",
       "      <td>303.852493</td>\n",
       "      <td>897.044972</td>\n",
       "      <td>1</td>\n",
       "      <td>4</td>\n",
       "      <td>0.185784</td>\n",
       "      <td>0.185784</td>\n",
       "      <td>0.062885</td>\n",
       "    </tr>\n",
       "    <tr>\n",
       "      <th>4</th>\n",
       "      <td>5</td>\n",
       "      <td>305.332287</td>\n",
       "      <td>901.898693</td>\n",
       "      <td>1</td>\n",
       "      <td>5</td>\n",
       "      <td>0.207703</td>\n",
       "      <td>0.207703</td>\n",
       "      <td>0.021919</td>\n",
       "    </tr>\n",
       "  </tbody>\n",
       "</table>\n",
       "</div>"
      ],
      "text/plain": [
       "   n      xPixel      yPixel  segment  peakNumbInSegment  distanceInSegment  \\\n",
       "0  1  291.309971  855.905497        1                  1           0.000000   \n",
       "1  2  295.640492  870.109606        1                  2           0.064145   \n",
       "2  3  299.607018  883.119812        1                  3           0.122898   \n",
       "3  4  303.852493  897.044972        1                  4           0.185784   \n",
       "4  5  305.332287  901.898693        1                  5           0.207703   \n",
       "\n",
       "   distanceCumulated  stripeLength  \n",
       "0           0.000000      0.000000  \n",
       "1           0.064145      0.064145  \n",
       "2           0.122898      0.058754  \n",
       "3           0.185784      0.062885  \n",
       "4           0.207703      0.021919  "
      ]
     },
     "execution_count": 7,
     "metadata": {},
     "output_type": "execute_result"
    }
   ],
   "source": [
    "df = pd.read_csv(\"BEL17-2-2_1.66x_milieu0001_StripesCounterFile_01.csv\", skiprows=8)\n",
    "df.head()"
   ]
  },
  {
   "cell_type": "code",
   "execution_count": 8,
   "id": "3bcb8b70-b0a8-4164-9012-9fc28f67b012",
   "metadata": {
    "execution": {
     "iopub.execute_input": "2022-04-08T07:23:19.561772Z",
     "iopub.status.busy": "2022-04-08T07:23:19.561241Z",
     "iopub.status.idle": "2022-04-08T07:23:19.566758Z",
     "shell.execute_reply": "2022-04-08T07:23:19.566175Z",
     "shell.execute_reply.started": "2022-04-08T07:23:19.561739Z"
    },
    "tags": []
   },
   "outputs": [
    {
     "data": {
      "text/plain": [
       "Index(['n', 'xPixel', 'yPixel', 'segment', 'peakNumbInSegment',\n",
       "       'distanceInSegment', 'distanceCumulated', 'stripeLength'],\n",
       "      dtype='object')"
      ]
     },
     "execution_count": 8,
     "metadata": {},
     "output_type": "execute_result"
    }
   ],
   "source": [
    "df.columns"
   ]
  },
  {
   "cell_type": "code",
   "execution_count": 14,
   "id": "4b7fe6e1-98aa-4399-9ddd-fb6c1a603834",
   "metadata": {
    "execution": {
     "iopub.execute_input": "2022-04-08T07:25:36.118437Z",
     "iopub.status.busy": "2022-04-08T07:25:36.118188Z",
     "iopub.status.idle": "2022-04-08T07:25:36.126557Z",
     "shell.execute_reply": "2022-04-08T07:25:36.125855Z",
     "shell.execute_reply.started": "2022-04-08T07:25:36.118411Z"
    },
    "tags": []
   },
   "outputs": [
    {
     "data": {
      "text/plain": [
       "1     0.064145\n",
       "2     0.058754\n",
       "3     0.062885\n",
       "4     0.021919\n",
       "5     0.036834\n",
       "6     0.058754\n",
       "7     0.058754\n",
       "8     0.067017\n",
       "9     0.068277\n",
       "10    0.058754\n",
       "11    0.067017\n",
       "12    0.064145\n",
       "13    0.062885\n",
       "14    0.054622\n",
       "15    0.067017\n",
       "16    0.068277\n",
       "17    0.062885\n",
       "18    0.068277\n",
       "19    0.058754\n",
       "20    0.062885\n",
       "21    0.053362\n",
       "22    0.077800\n",
       "23    0.058754\n",
       "24    0.071149\n",
       "25    0.000000\n",
       "26    0.069651\n",
       "27    0.056274\n",
       "28    0.063747\n",
       "29    0.025185\n",
       "30    0.050370\n",
       "31    0.050370\n",
       "32    0.054107\n",
       "33    0.044466\n",
       "34    0.034825\n",
       "35    0.065914\n",
       "36    0.038562\n",
       "37    0.034825\n",
       "38    0.065914\n",
       "39    0.060010\n",
       "40    0.063747\n",
       "41    0.065914\n",
       "42    0.050370\n",
       "43    0.015544\n",
       "44    0.028922\n",
       "Name: stripeLength, dtype: float64"
      ]
     },
     "execution_count": 14,
     "metadata": {},
     "output_type": "execute_result"
    }
   ],
   "source": [
    "df['stripeLength'].drop(0)"
   ]
  },
  {
   "cell_type": "code",
   "execution_count": 23,
   "id": "58b42a96-fafd-495b-8e14-8ee02b4c3349",
   "metadata": {
    "execution": {
     "iopub.execute_input": "2022-04-08T08:59:31.931869Z",
     "iopub.status.busy": "2022-04-08T08:59:31.931648Z",
     "iopub.status.idle": "2022-04-08T08:59:32.034375Z",
     "shell.execute_reply": "2022-04-08T08:59:32.033909Z",
     "shell.execute_reply.started": "2022-04-08T08:59:31.931847Z"
    },
    "tags": []
   },
   "outputs": [
    {
     "data": {
      "image/png": "[encoded data removed]",
      "text/plain": [
       "<Figure size 576x432 with 1 Axes>"
      ]
     },
     "metadata": {
      "needs_background": "light"
     },
     "output_type": "display_data"
    }
   ],
   "source": [
    "fig, ax = plt.subplots(1, 1, figsize=(8,6))\n",
    "\n",
    "a = df[df['stripeLength'] !=0]\n",
    "ax.plot(a['stripeLength']*1000)\n",
    "ax.grid()"
   ]
  },
  {
   "cell_type": "code",
   "execution_count": null,
   "id": "3eba168f-ce3a-48e6-9fcf-537077433efc",
   "metadata": {},
   "outputs": [],
   "source": []
  }
 ],
 "metadata": {
  "kernelspec": {
   "display_name": "Python 3 (ipykernel)",
   "language": "python",
   "name": "python3"
  },
  "language_info": {
   "codemirror_mode": {
    "name": "ipython",
    "version": 3
   },
   "file_extension": ".py",
   "mimetype": "text/x-python",
   "name": "python",
   "nbconvert_exporter": "python",
   "pygments_lexer": "ipython3",
   "version": "3.9.10"
  }
 },
 "nbformat": 4,
 "nbformat_minor": 5
}
