{
 "cells": [
  {
   "cell_type": "code",
   "execution_count": 1,
   "id": "f894be79-8892-48d6-84dc-8ff19be63c0e",
   "metadata": {
    "execution": {
     "iopub.execute_input": "2022-04-08T10:29:02.665357Z",
     "iopub.status.busy": "2022-04-08T10:29:02.664684Z",
     "iopub.status.idle": "2022-04-08T10:29:05.467378Z",
     "shell.execute_reply": "2022-04-08T10:29:05.466413Z",
     "shell.execute_reply.started": "2022-04-08T10:29:02.665232Z"
    },
    "tags": []
   },
   "outputs": [],
   "source": [
    "import pandas as pd\n",
    "import matplotlib\n",
    "import matplotlib.pyplot as plt"
   ]
  },
  {
   "cell_type": "code",
   "execution_count": 3,
   "id": "d5f2892b-26f4-4936-bd53-6051c60f22ee",
   "metadata": {
    "execution": {
     "iopub.execute_input": "2022-04-08T10:31:42.644751Z",
     "iopub.status.busy": "2022-04-08T10:31:42.644337Z",
     "iopub.status.idle": "2022-04-08T10:31:42.668431Z",
     "shell.execute_reply": "2022-04-08T10:31:42.667475Z",
     "shell.execute_reply.started": "2022-04-08T10:31:42.644711Z"
    },
    "tags": []
   },
   "outputs": [
    {
     "data": {
      "text/html": [
       "<div>\n",
       "<style scoped>\n",
       "    .dataframe tbody tr th:only-of-type {\n",
       "        vertical-align: middle;\n",
       "    }\n",
       "\n",
       "    .dataframe tbody tr th {\n",
       "        vertical-align: top;\n",
       "    }\n",
       "\n",
       "    .dataframe thead th {\n",
       "        text-align: right;\n",
       "    }\n",
       "</style>\n",
       "<table border=\"1\" class=\"dataframe\">\n",
       "  <thead>\n",
       "    <tr style=\"text-align: right;\">\n",
       "      <th></th>\n",
       "      <th>n</th>\n",
       "      <th>xPixel</th>\n",
       "      <th>yPixel</th>\n",
       "      <th>segment</th>\n",
       "      <th>peakNumbInSegment</th>\n",
       "      <th>distanceInSegment</th>\n",
       "      <th>distanceCumulated</th>\n",
       "      <th>stripeLength</th>\n",
       "    </tr>\n",
       "  </thead>\n",
       "  <tbody>\n",
       "    <tr>\n",
       "      <th>0</th>\n",
       "      <td>1</td>\n",
       "      <td>268.071666</td>\n",
       "      <td>884.962015</td>\n",
       "      <td>1</td>\n",
       "      <td>1</td>\n",
       "      <td>0.000000</td>\n",
       "      <td>0.000000</td>\n",
       "      <td>0.000000</td>\n",
       "    </tr>\n",
       "    <tr>\n",
       "      <th>1</th>\n",
       "      <td>2</td>\n",
       "      <td>274.986001</td>\n",
       "      <td>898.007420</td>\n",
       "      <td>1</td>\n",
       "      <td>2</td>\n",
       "      <td>0.063778</td>\n",
       "      <td>0.063778</td>\n",
       "      <td>0.063778</td>\n",
       "    </tr>\n",
       "    <tr>\n",
       "      <th>2</th>\n",
       "      <td>3</td>\n",
       "      <td>281.900335</td>\n",
       "      <td>911.052824</td>\n",
       "      <td>1</td>\n",
       "      <td>3</td>\n",
       "      <td>0.127555</td>\n",
       "      <td>0.127555</td>\n",
       "      <td>0.063778</td>\n",
       "    </tr>\n",
       "    <tr>\n",
       "      <th>3</th>\n",
       "      <td>4</td>\n",
       "      <td>289.228450</td>\n",
       "      <td>924.878917</td>\n",
       "      <td>1</td>\n",
       "      <td>4</td>\n",
       "      <td>0.195149</td>\n",
       "      <td>0.195149</td>\n",
       "      <td>0.067594</td>\n",
       "    </tr>\n",
       "    <tr>\n",
       "      <th>4</th>\n",
       "      <td>5</td>\n",
       "      <td>296.142785</td>\n",
       "      <td>937.924321</td>\n",
       "      <td>1</td>\n",
       "      <td>5</td>\n",
       "      <td>0.258927</td>\n",
       "      <td>0.258927</td>\n",
       "      <td>0.063778</td>\n",
       "    </tr>\n",
       "  </tbody>\n",
       "</table>\n",
       "</div>"
      ],
      "text/plain": [
       "   n      xPixel      yPixel  segment  peakNumbInSegment  distanceInSegment  \\\n",
       "0  1  268.071666  884.962015        1                  1           0.000000   \n",
       "1  2  274.986001  898.007420        1                  2           0.063778   \n",
       "2  3  281.900335  911.052824        1                  3           0.127555   \n",
       "3  4  289.228450  924.878917        1                  4           0.195149   \n",
       "4  5  296.142785  937.924321        1                  5           0.258927   \n",
       "\n",
       "   distanceCumulated  stripeLength  \n",
       "0           0.000000      0.000000  \n",
       "1           0.063778      0.063778  \n",
       "2           0.127555      0.063778  \n",
       "3           0.195149      0.067594  \n",
       "4           0.258927      0.063778  "
      ]
     },
     "execution_count": 3,
     "metadata": {},
     "output_type": "execute_result"
    }
   ],
   "source": [
    "df = pd.read_csv(\"BEL17-2-2_1.66x_milieu0001_StripesCounterFile_02.csv\", skiprows=8)\n",
    "df.head()"
   ]
  },
  {
   "cell_type": "code",
   "execution_count": 4,
   "id": "3bcb8b70-b0a8-4164-9012-9fc28f67b012",
   "metadata": {
    "execution": {
     "iopub.execute_input": "2022-04-08T10:31:44.596881Z",
     "iopub.status.busy": "2022-04-08T10:31:44.596269Z",
     "iopub.status.idle": "2022-04-08T10:31:44.605355Z",
     "shell.execute_reply": "2022-04-08T10:31:44.604462Z",
     "shell.execute_reply.started": "2022-04-08T10:31:44.596840Z"
    },
    "tags": []
   },
   "outputs": [
    {
     "data": {
      "text/plain": [
       "Index(['n', 'xPixel', 'yPixel', 'segment', 'peakNumbInSegment',\n",
       "       'distanceInSegment', 'distanceCumulated', 'stripeLength'],\n",
       "      dtype='object')"
      ]
     },
     "execution_count": 4,
     "metadata": {},
     "output_type": "execute_result"
    }
   ],
   "source": [
    "df.columns"
   ]
  },
  {
   "cell_type": "code",
   "execution_count": 8,
   "id": "58b42a96-fafd-495b-8e14-8ee02b4c3349",
   "metadata": {
    "execution": {
     "iopub.execute_input": "2022-04-08T10:33:12.286982Z",
     "iopub.status.busy": "2022-04-08T10:33:12.286361Z",
     "iopub.status.idle": "2022-04-08T10:33:12.549574Z",
     "shell.execute_reply": "2022-04-08T10:33:12.548636Z",
     "shell.execute_reply.started": "2022-04-08T10:33:12.286942Z"
    },
    "tags": []
   },
   "outputs": [
    {
     "data": {
      "image/png": "[encoded data removed]",
      "text/plain": [
       "<Figure size 576x432 with 1 Axes>"
      ]
     },
     "metadata": {
      "needs_background": "light"
     },
     "output_type": "display_data"
    }
   ],
   "source": [
    "fig, ax = plt.subplots(1, 1, figsize=(8,6))\n",
    "\n",
    "a = df[df['stripeLength'] !=0]\n",
    "ax.plot(a['distanceCumulated'], a['stripeLength']*1000)\n",
    "ax.grid()"
   ]
  },
  {
   "cell_type": "code",
   "execution_count": null,
   "id": "3eba168f-ce3a-48e6-9fcf-537077433efc",
   "metadata": {},
   "outputs": [],
   "source": []
  }
 ],
 "metadata": {
  "kernelspec": {
   "display_name": "Python 3 (ipykernel)",
   "language": "python",
   "name": "python3"
  },
  "language_info": {
   "codemirror_mode": {
    "name": "ipython",
    "version": 3
   },
   "file_extension": ".py",
   "mimetype": "text/x-python",
   "name": "python",
   "nbconvert_exporter": "python",
   "pygments_lexer": "ipython3",
   "version": "3.9.10"
  }
 },
 "nbformat": 4,
 "nbformat_minor": 5
}
