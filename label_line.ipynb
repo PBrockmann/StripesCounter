{
 "cells": [
  {
   "cell_type": "code",
   "execution_count": 128,
   "id": "cdc89115-388a-4716-8a37-4085fe6c3fc2",
   "metadata": {
    "execution": {
     "iopub.execute_input": "2022-04-07T17:15:26.141832Z",
     "iopub.status.busy": "2022-04-07T17:15:26.141274Z",
     "iopub.status.idle": "2022-04-07T17:15:26.350773Z",
     "shell.execute_reply": "2022-04-07T17:15:26.349573Z",
     "shell.execute_reply.started": "2022-04-07T17:15:26.141791Z"
    },
    "tags": []
   },
   "outputs": [],
   "source": [
    "import matplotlib\n",
    "import matplotlib.pyplot as plt\n",
    "import numpy as np\n",
    "\n",
    "from shapely.geometry import LineString"
   ]
  },
  {
   "cell_type": "code",
   "execution_count": 14,
   "id": "25cd999f-d1cc-4732-8f7d-99a0e4711ec8",
   "metadata": {
    "execution": {
     "iopub.execute_input": "2022-04-07T14:13:53.697053Z",
     "iopub.status.busy": "2022-04-07T14:13:53.695970Z",
     "iopub.status.idle": "2022-04-07T14:13:53.702092Z",
     "shell.execute_reply": "2022-04-07T14:13:53.701113Z",
     "shell.execute_reply.started": "2022-04-07T14:13:53.697008Z"
    }
   },
   "outputs": [],
   "source": [
    "# https://stackoverflow.com/questions/45776737/anottating-along-a-matplotlib-curve\n",
    "# https://stackoverflow.com/questions/18780198/how-to-rotate-matplotlib-annotation-to-match-a-line"
   ]
  },
  {
   "cell_type": "code",
   "execution_count": 179,
   "id": "f2c8fdf3-5193-46d0-9967-e0793087eaaa",
   "metadata": {
    "execution": {
     "iopub.execute_input": "2022-04-07T17:50:10.097347Z",
     "iopub.status.busy": "2022-04-07T17:50:10.096752Z",
     "iopub.status.idle": "2022-04-07T17:50:10.319441Z",
     "shell.execute_reply": "2022-04-07T17:50:10.318554Z",
     "shell.execute_reply.started": "2022-04-07T17:50:10.097305Z"
    },
    "tags": []
   },
   "outputs": [
    {
     "data": {
      "text/plain": [
       "Text(16.354892338714645, 67.45660593465955, 'rotation2=-60.57')"
      ]
     },
     "execution_count": 179,
     "metadata": {},
     "output_type": "execute_result"
    },
    {
     "data": {
      "image/png": "[encoded data removed]",
      "text/plain": [
       "<Figure size 576x432 with 1 Axes>"
      ]
     },
     "metadata": {
      "needs_background": "light"
     },
     "output_type": "display_data"
    }
   ],
   "source": [
    "fig, ax = plt.subplots(1, 1, figsize=(8,6))\n",
    "\n",
    "ax.set_aspect('equal')\n",
    "\n",
    "x1 = 12\n",
    "y1 = 65\n",
    "x2 = 34\n",
    "y2 = 26\n",
    "line, = ax.plot([x1, x2], [y1, y2])\n",
    "\n",
    "# compute angle in raw data coordinates (no manual transforms)\n",
    "dy = y2 - y1\n",
    "dx = x2 - x1\n",
    "angle = np.rad2deg(np.arctan2(dy, dx))\n",
    "\n",
    "# annotate with transform_rotates_text to align text and line\n",
    "plt.text(x1, y1, 'rotation=%.2f'%angle, ha='left', va='bottom', fontsize=12,\n",
    "         transform_rotates_text=True, rotation=angle, rotation_mode='anchor')\n",
    "\n",
    "ab = LineString([(x1,y1), (x2,y2)])\n",
    "left = ab.parallel_offset(5, 'left')\n",
    "ax.plot(left.xy[0],left.xy[1])\n",
    "ax.text(left.boundary[0].xy[0][0], left.boundary[0].xy[1][0], 'rotation2=%.2f'%angle, ha='left', va='bottom', fontsize=12,\n",
    "         transform_rotates_text=True, rotation=angle, rotation_mode='anchor', clip_on=True)"
   ]
  },
  {
   "cell_type": "code",
   "execution_count": 171,
   "id": "b0caa427-94b5-4fc0-9631-51c59921dcf7",
   "metadata": {
    "execution": {
     "iopub.execute_input": "2022-04-07T17:44:33.853652Z",
     "iopub.status.busy": "2022-04-07T17:44:33.853038Z",
     "iopub.status.idle": "2022-04-07T17:44:33.861727Z",
     "shell.execute_reply": "2022-04-07T17:44:33.860797Z",
     "shell.execute_reply.started": "2022-04-07T17:44:33.853612Z"
    },
    "tags": []
   },
   "outputs": [
    {
     "data": {
      "text/plain": [
       "(array('d', [12.0, 34.0]), array('d', [15.0, 26.0]))"
      ]
     },
     "execution_count": 171,
     "metadata": {},
     "output_type": "execute_result"
    }
   ],
   "source": [
    "ab.xy"
   ]
  },
  {
   "cell_type": "code",
   "execution_count": null,
   "id": "96a3c69f-c3b9-4b4f-8c83-f3555d27eda0",
   "metadata": {},
   "outputs": [],
   "source": []
  }
 ],
 "metadata": {
  "kernelspec": {
   "display_name": "Python 3 (ipykernel)",
   "language": "python",
   "name": "python3"
  },
  "language_info": {
   "codemirror_mode": {
    "name": "ipython",
    "version": 3
   },
   "file_extension": ".py",
   "mimetype": "text/x-python",
   "name": "python",
   "nbconvert_exporter": "python",
   "pygments_lexer": "ipython3",
   "version": "3.9.10"
  }
 },
 "nbformat": 4,
 "nbformat_minor": 5
}
